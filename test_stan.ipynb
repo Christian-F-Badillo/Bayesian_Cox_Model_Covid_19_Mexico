{
 "cells": [
  {
   "cell_type": "code",
   "execution_count": null,
   "metadata": {},
   "outputs": [
    {
     "data": {
      "text/plain": [
       "'/home/quicho/.cmdstan/cmdstan-2.36.0'"
      ]
     },
     "execution_count": 1,
     "metadata": {},
     "output_type": "execute_result"
    }
   ],
   "source": [
    "from cmdstanpy import cmdstan_path\n",
    "import os\n",
    "\n",
    "cmdstan_path()"
   ]
  },
  {
   "cell_type": "code",
   "execution_count": 2,
   "metadata": {},
   "outputs": [],
   "source": [
    "from cmdstanpy import CmdStanModel\n",
    "\n",
    "stan_file = os.path.join('/home/quicho/.cmdstan/cmdstan-2.36.0/examples', 'bernoulli', \"bernoulli.stan\")\n",
    "model = CmdStanModel(stan_file=stan_file)"
   ]
  },
  {
   "cell_type": "code",
   "execution_count": 3,
   "metadata": {},
   "outputs": [
    {
     "name": "stdout",
     "output_type": "stream",
     "text": [
      "CmdStanModel: name=bernoulli\n",
      "\t stan_file=/home/quicho/.cmdstan/cmdstan-2.36.0/examples/bernoulli/bernoulli.stan\n",
      "\t exe_file=/home/quicho/.cmdstan/cmdstan-2.36.0/examples/bernoulli/bernoulli\n",
      "\t compiler_options=stanc_options={}, cpp_options={}\n"
     ]
    }
   ],
   "source": [
    "print(model)"
   ]
  },
  {
   "cell_type": "code",
   "execution_count": 4,
   "metadata": {},
   "outputs": [
    {
     "name": "stdout",
     "output_type": "stream",
     "text": [
      "{'stan_version_major': '2', 'stan_version_minor': '36', 'stan_version_patch': '0', 'STAN_THREADS': 'false', 'STAN_MPI': 'false', 'STAN_OPENCL': 'false', 'STAN_NO_RANGE_CHECKS': 'false', 'STAN_CPP_OPTIMS': 'false'}\n"
     ]
    }
   ],
   "source": [
    "print(model.exe_info())"
   ]
  },
  {
   "cell_type": "code",
   "execution_count": 5,
   "metadata": {},
   "outputs": [],
   "source": [
    "data_file = os.path.join('/home/quicho/.cmdstan/cmdstan-2.36.0/examples', 'bernoulli', \"bernoulli.data.json\") "
   ]
  },
  {
   "cell_type": "code",
   "execution_count": 6,
   "metadata": {},
   "outputs": [
    {
     "name": "stderr",
     "output_type": "stream",
     "text": [
      "23:17:30 - cmdstanpy - INFO - CmdStan start processing\n"
     ]
    },
    {
     "data": {
      "application/vnd.jupyter.widget-view+json": {
       "model_id": "ad47352ab1c84b56975a20b053195992",
       "version_major": 2,
       "version_minor": 0
      },
      "text/plain": [
       "chain 1 |          | 00:00 Status"
      ]
     },
     "metadata": {},
     "output_type": "display_data"
    },
    {
     "data": {
      "application/vnd.jupyter.widget-view+json": {
       "model_id": "12aed537ad904398a398928cd61d3ce3",
       "version_major": 2,
       "version_minor": 0
      },
      "text/plain": [
       "chain 2 |          | 00:00 Status"
      ]
     },
     "metadata": {},
     "output_type": "display_data"
    },
    {
     "data": {
      "application/vnd.jupyter.widget-view+json": {
       "model_id": "383d015ee0ad4be28c6557229431e808",
       "version_major": 2,
       "version_minor": 0
      },
      "text/plain": [
       "chain 3 |          | 00:00 Status"
      ]
     },
     "metadata": {},
     "output_type": "display_data"
    },
    {
     "data": {
      "application/vnd.jupyter.widget-view+json": {
       "model_id": "5a7151efbc9f49d5b536a7029eb03d5f",
       "version_major": 2,
       "version_minor": 0
      },
      "text/plain": [
       "chain 4 |          | 00:00 Status"
      ]
     },
     "metadata": {},
     "output_type": "display_data"
    },
    {
     "name": "stdout",
     "output_type": "stream",
     "text": [
      "                                                                                                                                                                                                                                                                                                                                "
     ]
    },
    {
     "name": "stderr",
     "output_type": "stream",
     "text": [
      "23:17:31 - cmdstanpy - INFO - CmdStan done processing.\n"
     ]
    },
    {
     "name": "stdout",
     "output_type": "stream",
     "text": [
      "\n"
     ]
    }
   ],
   "source": [
    "fit = model.sample(data=data_file)"
   ]
  },
  {
   "cell_type": "code",
   "execution_count": 7,
   "metadata": {},
   "outputs": [
    {
     "name": "stdout",
     "output_type": "stream",
     "text": [
      "[0.0960046 0.0901276 0.128778  ... 0.152545  0.224924  0.128843 ]\n"
     ]
    }
   ],
   "source": [
    "print(fit.stan_variable('theta'))"
   ]
  },
  {
   "cell_type": "code",
   "execution_count": 8,
   "metadata": {},
   "outputs": [
    {
     "name": "stdout",
     "output_type": "stream",
     "text": [
      "      theta\n",
      "0  0.096005\n",
      "1  0.090128\n",
      "2  0.128778\n"
     ]
    }
   ],
   "source": [
    "print(fit.draws_pd('theta')[:3])"
   ]
  },
  {
   "cell_type": "code",
   "execution_count": 9,
   "metadata": {},
   "outputs": [
    {
     "name": "stdout",
     "output_type": "stream",
     "text": [
      "<xarray.Dataset> Size: 40kB\n",
      "Dimensions:  (draw: 1000, chain: 4)\n",
      "Coordinates:\n",
      "  * chain    (chain) int64 32B 1 2 3 4\n",
      "  * draw     (draw) int64 8kB 0 1 2 3 4 5 6 7 ... 993 994 995 996 997 998 999\n",
      "Data variables:\n",
      "    theta    (chain, draw) float64 32kB 0.096 0.09013 0.1288 ... 0.2249 0.1288\n",
      "Attributes:\n",
      "    stan_version:        2.36.0\n",
      "    model:               bernoulli_model\n",
      "    num_draws_sampling:  1000\n"
     ]
    }
   ],
   "source": [
    "print(fit.draws_xr('theta'))"
   ]
  },
  {
   "cell_type": "code",
   "execution_count": 11,
   "metadata": {},
   "outputs": [
    {
     "name": "stdout",
     "output_type": "stream",
     "text": [
      "theta\t(4000,)\n"
     ]
    }
   ],
   "source": [
    "for k, v in fit.stan_variables().items():\n",
    "    print(f'{k}\\t{v.shape}')"
   ]
  },
  {
   "cell_type": "code",
   "execution_count": 12,
   "metadata": {},
   "outputs": [
    {
     "name": "stdout",
     "output_type": "stream",
     "text": [
      "lp__\t(1000, 4)\n",
      "accept_stat__\t(1000, 4)\n",
      "stepsize__\t(1000, 4)\n",
      "treedepth__\t(1000, 4)\n",
      "n_leapfrog__\t(1000, 4)\n",
      "divergent__\t(1000, 4)\n",
      "energy__\t(1000, 4)\n"
     ]
    }
   ],
   "source": [
    "for k, v in fit.method_variables().items():\n",
    "    print(f'{k}\\t{v.shape}')"
   ]
  },
  {
   "cell_type": "code",
   "execution_count": 13,
   "metadata": {},
   "outputs": [
    {
     "name": "stdout",
     "output_type": "stream",
     "text": [
      "numpy.ndarray of draws: (1000, 4, 8)\n"
     ]
    }
   ],
   "source": [
    "print(f'numpy.ndarray of draws: {fit.draws().shape}')"
   ]
  },
  {
   "cell_type": "code",
   "execution_count": 14,
   "metadata": {},
   "outputs": [
    {
     "data": {
      "text/html": [
       "<div>\n",
       "<style scoped>\n",
       "    .dataframe tbody tr th:only-of-type {\n",
       "        vertical-align: middle;\n",
       "    }\n",
       "\n",
       "    .dataframe tbody tr th {\n",
       "        vertical-align: top;\n",
       "    }\n",
       "\n",
       "    .dataframe thead th {\n",
       "        text-align: right;\n",
       "    }\n",
       "</style>\n",
       "<table border=\"1\" class=\"dataframe\">\n",
       "  <thead>\n",
       "    <tr style=\"text-align: right;\">\n",
       "      <th></th>\n",
       "      <th>chain__</th>\n",
       "      <th>iter__</th>\n",
       "      <th>draw__</th>\n",
       "      <th>lp__</th>\n",
       "      <th>accept_stat__</th>\n",
       "      <th>stepsize__</th>\n",
       "      <th>treedepth__</th>\n",
       "      <th>n_leapfrog__</th>\n",
       "      <th>divergent__</th>\n",
       "      <th>energy__</th>\n",
       "      <th>theta</th>\n",
       "    </tr>\n",
       "  </thead>\n",
       "  <tbody>\n",
       "    <tr>\n",
       "      <th>0</th>\n",
       "      <td>1.0</td>\n",
       "      <td>1.0</td>\n",
       "      <td>1.0</td>\n",
       "      <td>-7.93846</td>\n",
       "      <td>0.990044</td>\n",
       "      <td>1.07849</td>\n",
       "      <td>2.0</td>\n",
       "      <td>3.0</td>\n",
       "      <td>0.0</td>\n",
       "      <td>8.05886</td>\n",
       "      <td>0.096005</td>\n",
       "    </tr>\n",
       "    <tr>\n",
       "      <th>1</th>\n",
       "      <td>1.0</td>\n",
       "      <td>2.0</td>\n",
       "      <td>2.0</td>\n",
       "      <td>-8.06964</td>\n",
       "      <td>0.983157</td>\n",
       "      <td>1.07849</td>\n",
       "      <td>1.0</td>\n",
       "      <td>1.0</td>\n",
       "      <td>0.0</td>\n",
       "      <td>8.24264</td>\n",
       "      <td>0.090128</td>\n",
       "    </tr>\n",
       "    <tr>\n",
       "      <th>2</th>\n",
       "      <td>1.0</td>\n",
       "      <td>3.0</td>\n",
       "      <td>3.0</td>\n",
       "      <td>-7.38972</td>\n",
       "      <td>1.000000</td>\n",
       "      <td>1.07849</td>\n",
       "      <td>1.0</td>\n",
       "      <td>1.0</td>\n",
       "      <td>0.0</td>\n",
       "      <td>7.97279</td>\n",
       "      <td>0.128778</td>\n",
       "    </tr>\n",
       "    <tr>\n",
       "      <th>3</th>\n",
       "      <td>1.0</td>\n",
       "      <td>4.0</td>\n",
       "      <td>4.0</td>\n",
       "      <td>-7.04626</td>\n",
       "      <td>0.972057</td>\n",
       "      <td>1.07849</td>\n",
       "      <td>2.0</td>\n",
       "      <td>3.0</td>\n",
       "      <td>0.0</td>\n",
       "      <td>7.80102</td>\n",
       "      <td>0.162626</td>\n",
       "    </tr>\n",
       "    <tr>\n",
       "      <th>4</th>\n",
       "      <td>1.0</td>\n",
       "      <td>5.0</td>\n",
       "      <td>5.0</td>\n",
       "      <td>-7.44209</td>\n",
       "      <td>0.963478</td>\n",
       "      <td>1.07849</td>\n",
       "      <td>2.0</td>\n",
       "      <td>3.0</td>\n",
       "      <td>0.0</td>\n",
       "      <td>7.44234</td>\n",
       "      <td>0.412329</td>\n",
       "    </tr>\n",
       "    <tr>\n",
       "      <th>...</th>\n",
       "      <td>...</td>\n",
       "      <td>...</td>\n",
       "      <td>...</td>\n",
       "      <td>...</td>\n",
       "      <td>...</td>\n",
       "      <td>...</td>\n",
       "      <td>...</td>\n",
       "      <td>...</td>\n",
       "      <td>...</td>\n",
       "      <td>...</td>\n",
       "      <td>...</td>\n",
       "    </tr>\n",
       "    <tr>\n",
       "      <th>3995</th>\n",
       "      <td>4.0</td>\n",
       "      <td>996.0</td>\n",
       "      <td>3996.0</td>\n",
       "      <td>-7.04907</td>\n",
       "      <td>0.988913</td>\n",
       "      <td>0.93695</td>\n",
       "      <td>2.0</td>\n",
       "      <td>3.0</td>\n",
       "      <td>0.0</td>\n",
       "      <td>7.84215</td>\n",
       "      <td>0.162263</td>\n",
       "    </tr>\n",
       "    <tr>\n",
       "      <th>3996</th>\n",
       "      <td>4.0</td>\n",
       "      <td>997.0</td>\n",
       "      <td>3997.0</td>\n",
       "      <td>-6.92844</td>\n",
       "      <td>1.000000</td>\n",
       "      <td>0.93695</td>\n",
       "      <td>1.0</td>\n",
       "      <td>1.0</td>\n",
       "      <td>0.0</td>\n",
       "      <td>7.03745</td>\n",
       "      <td>0.180355</td>\n",
       "    </tr>\n",
       "    <tr>\n",
       "      <th>3997</th>\n",
       "      <td>4.0</td>\n",
       "      <td>998.0</td>\n",
       "      <td>3998.0</td>\n",
       "      <td>-7.13055</td>\n",
       "      <td>0.965389</td>\n",
       "      <td>0.93695</td>\n",
       "      <td>1.0</td>\n",
       "      <td>1.0</td>\n",
       "      <td>0.0</td>\n",
       "      <td>7.13250</td>\n",
       "      <td>0.152545</td>\n",
       "    </tr>\n",
       "    <tr>\n",
       "      <th>3998</th>\n",
       "      <td>4.0</td>\n",
       "      <td>999.0</td>\n",
       "      <td>3999.0</td>\n",
       "      <td>-6.76913</td>\n",
       "      <td>0.999798</td>\n",
       "      <td>0.93695</td>\n",
       "      <td>2.0</td>\n",
       "      <td>3.0</td>\n",
       "      <td>0.0</td>\n",
       "      <td>7.12661</td>\n",
       "      <td>0.224924</td>\n",
       "    </tr>\n",
       "    <tr>\n",
       "      <th>3999</th>\n",
       "      <td>4.0</td>\n",
       "      <td>1000.0</td>\n",
       "      <td>4000.0</td>\n",
       "      <td>-7.38887</td>\n",
       "      <td>0.877729</td>\n",
       "      <td>0.93695</td>\n",
       "      <td>1.0</td>\n",
       "      <td>3.0</td>\n",
       "      <td>0.0</td>\n",
       "      <td>7.55894</td>\n",
       "      <td>0.128843</td>\n",
       "    </tr>\n",
       "  </tbody>\n",
       "</table>\n",
       "<p>4000 rows × 11 columns</p>\n",
       "</div>"
      ],
      "text/plain": [
       "      chain__  iter__  draw__     lp__  accept_stat__  stepsize__  \\\n",
       "0         1.0     1.0     1.0 -7.93846       0.990044     1.07849   \n",
       "1         1.0     2.0     2.0 -8.06964       0.983157     1.07849   \n",
       "2         1.0     3.0     3.0 -7.38972       1.000000     1.07849   \n",
       "3         1.0     4.0     4.0 -7.04626       0.972057     1.07849   \n",
       "4         1.0     5.0     5.0 -7.44209       0.963478     1.07849   \n",
       "...       ...     ...     ...      ...            ...         ...   \n",
       "3995      4.0   996.0  3996.0 -7.04907       0.988913     0.93695   \n",
       "3996      4.0   997.0  3997.0 -6.92844       1.000000     0.93695   \n",
       "3997      4.0   998.0  3998.0 -7.13055       0.965389     0.93695   \n",
       "3998      4.0   999.0  3999.0 -6.76913       0.999798     0.93695   \n",
       "3999      4.0  1000.0  4000.0 -7.38887       0.877729     0.93695   \n",
       "\n",
       "      treedepth__  n_leapfrog__  divergent__  energy__     theta  \n",
       "0             2.0           3.0          0.0   8.05886  0.096005  \n",
       "1             1.0           1.0          0.0   8.24264  0.090128  \n",
       "2             1.0           1.0          0.0   7.97279  0.128778  \n",
       "3             2.0           3.0          0.0   7.80102  0.162626  \n",
       "4             2.0           3.0          0.0   7.44234  0.412329  \n",
       "...           ...           ...          ...       ...       ...  \n",
       "3995          2.0           3.0          0.0   7.84215  0.162263  \n",
       "3996          1.0           1.0          0.0   7.03745  0.180355  \n",
       "3997          1.0           1.0          0.0   7.13250  0.152545  \n",
       "3998          2.0           3.0          0.0   7.12661  0.224924  \n",
       "3999          1.0           3.0          0.0   7.55894  0.128843  \n",
       "\n",
       "[4000 rows x 11 columns]"
      ]
     },
     "execution_count": 14,
     "metadata": {},
     "output_type": "execute_result"
    }
   ],
   "source": [
    "fit.draws_pd()"
   ]
  },
  {
   "cell_type": "code",
   "execution_count": 15,
   "metadata": {},
   "outputs": [
    {
     "name": "stdout",
     "output_type": "stream",
     "text": [
      "diag_e\n"
     ]
    }
   ],
   "source": [
    "print(fit.metric_type)"
   ]
  },
  {
   "cell_type": "code",
   "execution_count": 16,
   "metadata": {},
   "outputs": [
    {
     "name": "stdout",
     "output_type": "stream",
     "text": [
      "[[0.439251]\n",
      " [0.54606 ]\n",
      " [0.469769]\n",
      " [0.469486]]\n"
     ]
    }
   ],
   "source": [
    "print(fit.metric)"
   ]
  },
  {
   "cell_type": "code",
   "execution_count": 17,
   "metadata": {},
   "outputs": [
    {
     "name": "stdout",
     "output_type": "stream",
     "text": [
      "[1.07849 1.09079 1.13937 0.93695]\n"
     ]
    }
   ],
   "source": [
    "print(fit.step_size)"
   ]
  },
  {
   "cell_type": "code",
   "execution_count": 18,
   "metadata": {},
   "outputs": [
    {
     "name": "stdout",
     "output_type": "stream",
     "text": [
      "bernoulli_model\n"
     ]
    }
   ],
   "source": [
    "print(fit.metadata.cmdstan_config['model'])"
   ]
  },
  {
   "cell_type": "code",
   "execution_count": 19,
   "metadata": {},
   "outputs": [
    {
     "name": "stdout",
     "output_type": "stream",
     "text": [
      "56744\n"
     ]
    }
   ],
   "source": [
    "print(fit.metadata.cmdstan_config['seed'])"
   ]
  },
  {
   "cell_type": "code",
   "execution_count": 20,
   "metadata": {},
   "outputs": [
    {
     "data": {
      "text/html": [
       "<div>\n",
       "<style scoped>\n",
       "    .dataframe tbody tr th:only-of-type {\n",
       "        vertical-align: middle;\n",
       "    }\n",
       "\n",
       "    .dataframe tbody tr th {\n",
       "        vertical-align: top;\n",
       "    }\n",
       "\n",
       "    .dataframe thead th {\n",
       "        text-align: right;\n",
       "    }\n",
       "</style>\n",
       "<table border=\"1\" class=\"dataframe\">\n",
       "  <thead>\n",
       "    <tr style=\"text-align: right;\">\n",
       "      <th></th>\n",
       "      <th>Mean</th>\n",
       "      <th>MCSE</th>\n",
       "      <th>StdDev</th>\n",
       "      <th>MAD</th>\n",
       "      <th>5%</th>\n",
       "      <th>50%</th>\n",
       "      <th>95%</th>\n",
       "      <th>ESS_bulk</th>\n",
       "      <th>ESS_tail</th>\n",
       "      <th>R_hat</th>\n",
       "    </tr>\n",
       "  </thead>\n",
       "  <tbody>\n",
       "    <tr>\n",
       "      <th>lp__</th>\n",
       "      <td>-7.280080</td>\n",
       "      <td>0.017867</td>\n",
       "      <td>0.744425</td>\n",
       "      <td>0.337603</td>\n",
       "      <td>-8.786480</td>\n",
       "      <td>-6.997270</td>\n",
       "      <td>-6.749840</td>\n",
       "      <td>1689.28</td>\n",
       "      <td>2192.54</td>\n",
       "      <td>1.00182</td>\n",
       "    </tr>\n",
       "    <tr>\n",
       "      <th>theta</th>\n",
       "      <td>0.248633</td>\n",
       "      <td>0.003280</td>\n",
       "      <td>0.120797</td>\n",
       "      <td>0.122825</td>\n",
       "      <td>0.080627</td>\n",
       "      <td>0.234751</td>\n",
       "      <td>0.468861</td>\n",
       "      <td>1294.40</td>\n",
       "      <td>1831.96</td>\n",
       "      <td>1.00179</td>\n",
       "    </tr>\n",
       "  </tbody>\n",
       "</table>\n",
       "</div>"
      ],
      "text/plain": [
       "           Mean      MCSE    StdDev       MAD        5%       50%       95%  \\\n",
       "lp__  -7.280080  0.017867  0.744425  0.337603 -8.786480 -6.997270 -6.749840   \n",
       "theta  0.248633  0.003280  0.120797  0.122825  0.080627  0.234751  0.468861   \n",
       "\n",
       "       ESS_bulk  ESS_tail    R_hat  \n",
       "lp__    1689.28   2192.54  1.00182  \n",
       "theta   1294.40   1831.96  1.00179  "
      ]
     },
     "execution_count": 20,
     "metadata": {},
     "output_type": "execute_result"
    }
   ],
   "source": [
    "fit.summary()"
   ]
  },
  {
   "cell_type": "code",
   "execution_count": 21,
   "metadata": {},
   "outputs": [
    {
     "name": "stdout",
     "output_type": "stream",
     "text": [
      "Checking sampler transitions treedepth.\n",
      "Treedepth satisfactory for all transitions.\n",
      "\n",
      "Checking sampler transitions for divergences.\n",
      "No divergent transitions found.\n",
      "\n",
      "Checking E-BFMI - sampler transitions HMC potential energy.\n",
      "E-BFMI satisfactory.\n",
      "\n",
      "Rank-normalized split effective sample size satisfactory for all parameters.\n",
      "\n",
      "Rank-normalized split R-hat values satisfactory for all parameters.\n",
      "\n",
      "Processing complete, no problems detected.\n",
      "\n"
     ]
    }
   ],
   "source": [
    "print(fit.diagnose())"
   ]
  }
 ],
 "metadata": {
  "kernelspec": {
   "display_name": "venv",
   "language": "python",
   "name": "python3"
  },
  "language_info": {
   "codemirror_mode": {
    "name": "ipython",
    "version": 3
   },
   "file_extension": ".py",
   "mimetype": "text/x-python",
   "name": "python",
   "nbconvert_exporter": "python",
   "pygments_lexer": "ipython3",
   "version": "3.12.3"
  }
 },
 "nbformat": 4,
 "nbformat_minor": 2
}
